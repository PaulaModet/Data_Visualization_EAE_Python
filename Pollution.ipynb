{
 "cells": [
  {
   "cell_type": "markdown",
   "metadata": {},
   "source": [
    "# TRABAJO DATA VISUALIZATION \n",
    "## Limpieza y analisis de la base de datos Pollution \n",
    "\n",
    "### Esquema de trabajo:\n",
    "\n",
    "* Estraccion de datos a traves de la lectura del csv 'pollution_us_2000_2016.csv'\n",
    "* Realizacion de una copia de la informacion para mantener la integriedad de los datos originales\n",
    "* Eliminar columnas que consideramos no relevantes en el analisis\n",
    "* Renombrar las columnas a nombres intuitivos y en castellano\n",
    "* Casting necesarios. Fecha como principal cambio\n",
    "* Creacion de una nueva columna producto de otras de la tabla\n",
    "* Diferentes analisis graficos de las variables tomando una muestra aleatoria de 3000 filas sobre los datos totales"
   ]
  },
  {
   "cell_type": "code",
   "execution_count": null,
   "metadata": {
    "collapsed": true
   },
   "outputs": [],
   "source": [
    "import pandas as pd"
   ]
  },
  {
   "cell_type": "code",
   "execution_count": null,
   "metadata": {},
   "outputs": [],
   "source": [
    "#Lectura de la base de datos\n",
    "pol = pd.read_csv('pollution_us_2000_2016.csv')\n",
    "pol.head(2)"
   ]
  },
  {
   "cell_type": "markdown",
   "metadata": {},
   "source": [
    "### Extraccion de datos a traves de la lectura del csv 'pollution_us_2000_2016.csv' y realizacion de una copia de la informacion para mantener la integriedad de los datos originales\n",
    "\n"
   ]
  },
  {
   "cell_type": "code",
   "execution_count": null,
   "metadata": {
    "collapsed": true
   },
   "outputs": [],
   "source": [
    "#Copiando datos para no perder los originales\n",
    "pollu = pol.copy()"
   ]
  },
  {
   "cell_type": "code",
   "execution_count": null,
   "metadata": {
    "collapsed": true
   },
   "outputs": [],
   "source": [
    "pollu1 = pol.copy()"
   ]
  },
  {
   "cell_type": "markdown",
   "metadata": {},
   "source": [
    "**Gracias a la funcion describe podemos ver de un vistazo un resumen y pequeño analisis de los datos para conocerlos mejor**"
   ]
  },
  {
   "cell_type": "code",
   "execution_count": null,
   "metadata": {},
   "outputs": [],
   "source": [
    "pol.describe()"
   ]
  },
  {
   "cell_type": "code",
   "execution_count": null,
   "metadata": {},
   "outputs": [],
   "source": [
    "# Lectura de las columnas de la tabla original\n",
    "pollu.columns\n"
   ]
  },
  {
   "cell_type": "markdown",
   "metadata": {},
   "source": [
    "### Eliminar columnas que consideramos no relevantes en el analisis\n",
    "\n",
    "Hemos considerado oportuno eliminar estas columnas para dejar la tabla con la informacion mas util para el analisis. Dejando los Estados, la media y maximos de cada gas contaminante.\n",
    "\n",
    "Existen dos formas posibles, las haremos ambas a traves de copias. La forma 2 será la utilizada\n"
   ]
  },
  {
   "cell_type": "code",
   "execution_count": null,
   "metadata": {
    "collapsed": true
   },
   "outputs": [],
   "source": [
    "#Eliminando columnas innecesarias. FORMA 1: LARGA\n",
    "\n",
    "del pollu['Unnamed: 0']\n",
    "del pollu['State Code']\n",
    "del pollu['County Code']\n",
    "del pollu['County']\n",
    "del pollu['Site Num']\n",
    "del pollu['NO2 Units']\n",
    "del pollu['NO2 1st Max Hour']\n",
    "del pollu['NO2 AQI']\n",
    "del pollu['O3 Units']\n",
    "del pollu['O3 1st Max Hour']\n",
    "del pollu['O3 AQI']\n",
    "del pollu['SO2 Units']\n",
    "del pollu['SO2 1st Max Hour']\n",
    "del pollu['SO2 AQI']\n",
    "del pollu['CO Units']\n",
    "del pollu['CO 1st Max Hour']\n",
    "del pollu['CO AQI']"
   ]
  },
  {
   "cell_type": "code",
   "execution_count": null,
   "metadata": {},
   "outputs": [],
   "source": [
    "#Eliminando columnas innecesarias. FORMA 1: CORTA\n",
    "\n",
    "pollu1.drop(columns=['Unnamed: 0', 'State Code', 'County Code', 'County', 'Site Num', 'NO2 Units', 'NO2 1st Max Hour',\n",
    "                    'NO2 AQI', 'O3 Units', 'O3 1st Max Hour', 'O3 AQI', 'SO2 Units', 'SO2 1st Max Hour', 'SO2 AQI',\n",
    "                    'CO Units', 'CO 1st Max Hour', 'CO AQI'], axis=1, inplace=True)\n",
    "pollu1.head()"
   ]
  },
  {
   "cell_type": "markdown",
   "metadata": {},
   "source": [
    "### Renombrar las columnas a nombres mas intuitivos y en castellano"
   ]
  },
  {
   "cell_type": "code",
   "execution_count": null,
   "metadata": {},
   "outputs": [],
   "source": [
    "#Renombrar columnas \n",
    "p = pollu1.rename(columns=\n",
    "                    {'Address':'Direccion', 'State':'Estado', 'City':'Ciudad', 'Date Local':'FechaLocal',\n",
    "                    'NO2 Mean':'NO2media', 'NO2 1st Max Value':'NO2max', 'O3 Mean':'O3media', 'O3 1st Max Value':'O3max',\n",
    "                    'SO2 Mean':'SO2media', 'SO2 1st Max Value':'SO2max', 'CO Mean':'COmedia', 'CO 1st Max Value':'COmax'})\n",
    "p"
   ]
  },
  {
   "cell_type": "code",
   "execution_count": null,
   "metadata": {},
   "outputs": [],
   "source": [
    "p.head()"
   ]
  },
  {
   "cell_type": "markdown",
   "metadata": {},
   "source": [
    "### Tipos de nuestros datos\n",
    "\n",
    "Analizamos los tipos de datos de cada variable para ver posibles cateos necesarios. Como podemos observar todas las variables son correctas a excepcion de la Fecha que se podría castear a su formato optimo datetime"
   ]
  },
  {
   "cell_type": "code",
   "execution_count": null,
   "metadata": {},
   "outputs": [],
   "source": [
    "p.dtypes #Tipos de datos"
   ]
  },
  {
   "cell_type": "code",
   "execution_count": null,
   "metadata": {},
   "outputs": [],
   "source": [
    "p[p.Ciudad == 'Phoenix']"
   ]
  },
  {
   "cell_type": "code",
   "execution_count": null,
   "metadata": {
    "collapsed": true
   },
   "outputs": [],
   "source": [
    "p_copy3 = p.copy()"
   ]
  },
  {
   "cell_type": "code",
   "execution_count": null,
   "metadata": {},
   "outputs": [],
   "source": [
    "p_copy3.head()"
   ]
  },
  {
   "cell_type": "markdown",
   "metadata": {},
   "source": [
    "### Casting de la fecha\n",
    "\n",
    "Primero importamos las funcines necesarias para realizar el casting a datetime\n",
    "Vamos a crear dos variables fuera de la funcion para poder pasarselas como argumento y que recorra todas las filas\n",
    "Metemos la funcion en un try except para poder capturar los posibles errores y corregirlos\n",
    "Por ultimo realizamos un apply que recorra toda la tabla"
   ]
  },
  {
   "cell_type": "code",
   "execution_count": null,
   "metadata": {
    "collapsed": true
   },
   "outputs": [],
   "source": [
    "from datetime import date, datetime"
   ]
  },
  {
   "cell_type": "code",
   "execution_count": null,
   "metadata": {},
   "outputs": [],
   "source": [
    "#Casting de Fecha\n",
    "formato = '%Y-%m-%d'\n",
    "fecha = '2016-03-23'\n",
    "def parsea_fecha(fecha):    \n",
    "    try:\n",
    "        date = datetime.strptime(fecha,formato)\n",
    "        return(date)\n",
    "    except:\n",
    "        return None\n",
    "    \n",
    "p['FechaLocal'] = p.FechaLocal.apply(parsea_fecha)  \n",
    "p.head()\n"
   ]
  },
  {
   "cell_type": "markdown",
   "metadata": {},
   "source": [
    "Podemos comprobar a traves de la funcion dtypes que los cambios realizados son correctos y que el tipo de dato de la variable FechaLocal ha pasado de ser object a datetime"
   ]
  },
  {
   "cell_type": "code",
   "execution_count": null,
   "metadata": {},
   "outputs": [],
   "source": [
    "p.dtypes"
   ]
  },
  {
   "cell_type": "code",
   "execution_count": null,
   "metadata": {
    "collapsed": true
   },
   "outputs": [],
   "source": [
    "pco = p.copy"
   ]
  },
  {
   "cell_type": "markdown",
   "metadata": {},
   "source": [
    "### Columna adicional producto de las demas\n",
    "\n",
    "Realizamos una copia de seguridad por si necesitamos acudir a la tabla con los datos limpios\n",
    "\n",
    "Una vez realizadas las transformaciones de datos necesarias, vamos a añadir un nueva columna que sea la suma de las poluciones maximas de cada gas, estado y fecha"
   ]
  },
  {
   "cell_type": "code",
   "execution_count": null,
   "metadata": {
    "scrolled": true
   },
   "outputs": [],
   "source": [
    "# Añadimos una columna que sea el maximo de polucion total registrado\n",
    "\n",
    "p['TotalPollutionMax'] = p[['NO2max', 'O3max', 'SO2max', 'COmax']].sum(axis=1)\n",
    "p.head()"
   ]
  },
  {
   "cell_type": "markdown",
   "metadata": {},
   "source": [
    "### Analisis grafico de las variables \n",
    "\n",
    "Para comenzar con el analisis vamos a importar las librerias necesarias\n",
    "\n",
    "**Esquema de trabajo:**\n",
    "* Plot general de cada variables para echar un vistazo a los datos\n",
    "* Creacion de una muestra aleatoria de los datos para la mejor carga de los graficos. La muestra sera de 3000 filas aleatorias\n",
    "* Creacion de un mapa de densidad del total maximo de la contaminacion por Estados, asi vemos un poco mas clara su distribucion\n",
    "* Creacion de cada distribucion en funcion de la media de todos los gases en cada Estado. Un grafico por cada gas\n",
    "* Creacion de los diferentes histogramas de cada gas para ver sus distribuciones"
   ]
  },
  {
   "cell_type": "code",
   "execution_count": null,
   "metadata": {
    "collapsed": true
   },
   "outputs": [],
   "source": [
    "import seaborn as sns\n",
    "import matplotlib.pyplot as plt"
   ]
  },
  {
   "cell_type": "code",
   "execution_count": null,
   "metadata": {
    "collapsed": true
   },
   "outputs": [],
   "source": [
    "%matplotlib inline"
   ]
  },
  {
   "cell_type": "code",
   "execution_count": null,
   "metadata": {},
   "outputs": [],
   "source": [
    "out = p.plot(subplots=True, figsize = (15, 10))"
   ]
  },
  {
   "cell_type": "code",
   "execution_count": null,
   "metadata": {
    "collapsed": true
   },
   "outputs": [],
   "source": [
    "# Para ver mejor los graficos en el Notebook\n",
    "from matplotlib import rcParams\n",
    "\n",
    "rcParams['figure.figsize'] = 14, 10\n",
    "sns.set_context('talk')"
   ]
  },
  {
   "cell_type": "code",
   "execution_count": null,
   "metadata": {
    "scrolled": true
   },
   "outputs": [],
   "source": [
    "# Copio una muestra aleatoria de 3000 datos para cargar mejor los resultados\n",
    "dat = p.sample(3000, random_state=1234).copy()\n",
    "dat.head()"
   ]
  },
  {
   "cell_type": "code",
   "execution_count": null,
   "metadata": {
    "collapsed": true
   },
   "outputs": [],
   "source": [
    "#Importamos subplots\n",
    "import matplotlib.pyplot as plt\n"
   ]
  },
  {
   "cell_type": "code",
   "execution_count": null,
   "metadata": {},
   "outputs": [],
   "source": [
    "#Contaminacio maxima total por Estados\n",
    "fig, ax = plt.subplots()\n",
    "out01 = dat.groupby('Estado').plot(kind='kde', x='FechaLocal', y='TotalPollutionMax', ax=ax, legend = False)"
   ]
  },
  {
   "cell_type": "code",
   "execution_count": null,
   "metadata": {},
   "outputs": [],
   "source": [
    "out02 = dat.plot(kind='Line', x='FechaLocal', y='COmax', legend = False)"
   ]
  },
  {
   "cell_type": "code",
   "execution_count": null,
   "metadata": {},
   "outputs": [],
   "source": [
    "# Dispersion de la media de NO2 en los diferentes Estados\n",
    "out_NO2 = sns.stripplot(x='NO2media', y='Estado', data=dat)"
   ]
  },
  {
   "cell_type": "code",
   "execution_count": null,
   "metadata": {},
   "outputs": [],
   "source": [
    "# Dispersion de la media de O3 en los diferentes Estados\n",
    "out_O3 = sns.stripplot(x='O3media', y='Estado', data=dat)"
   ]
  },
  {
   "cell_type": "code",
   "execution_count": null,
   "metadata": {},
   "outputs": [],
   "source": [
    "# Dispersion de la media de SO2 en los diferentes Estados\n",
    "out_SO2 = sns.stripplot(x='SO2media', y='Estado', data=dat)"
   ]
  },
  {
   "cell_type": "code",
   "execution_count": null,
   "metadata": {},
   "outputs": [],
   "source": [
    "# Dispersion de la media de CO en los diferentes Estados\n",
    "out_CO = sns.stripplot(x='COmedia', y='Estado', data=dat)"
   ]
  },
  {
   "cell_type": "code",
   "execution_count": null,
   "metadata": {
    "collapsed": true
   },
   "outputs": [],
   "source": [
    "#out = sns.countplot(y='Estado', data=dat, axes_style(\"whitegrid\"))"
   ]
  },
  {
   "cell_type": "code",
   "execution_count": null,
   "metadata": {},
   "outputs": [],
   "source": [
    "# Distribucion de NO2media\n",
    "distNO2 = sns.distplot(dat.NO2media)"
   ]
  },
  {
   "cell_type": "code",
   "execution_count": null,
   "metadata": {},
   "outputs": [],
   "source": [
    "# Distribucion de O3media\n",
    "distO3 = sns.distplot(dat.O3media)"
   ]
  },
  {
   "cell_type": "code",
   "execution_count": null,
   "metadata": {},
   "outputs": [],
   "source": [
    "# Distribucion de SO2media\n",
    "distSO2 = sns.distplot(dat.SO2media)"
   ]
  },
  {
   "cell_type": "code",
   "execution_count": null,
   "metadata": {},
   "outputs": [],
   "source": [
    "# Distribucion de COmedia\n",
    "distCO = sns.distplot(dat.COmedia)"
   ]
  },
  {
   "cell_type": "code",
   "execution_count": null,
   "metadata": {
    "collapsed": true
   },
   "outputs": [],
   "source": [
    "#out = sns.barplot(x=\"FechaLocal\", y=\"NO2media\", hue=\"Estado\", data=dat)"
   ]
  },
  {
   "cell_type": "code",
   "execution_count": null,
   "metadata": {
    "collapsed": true
   },
   "outputs": [],
   "source": [
    "#histogrma de ultimo año de California con 3 ciudades\n"
   ]
  }
 ],
 "metadata": {
  "kernelspec": {
   "display_name": "Python 3",
   "language": "python",
   "name": "python3"
  },
  "language_info": {
   "codemirror_mode": {
    "name": "ipython",
    "version": 3
   },
   "file_extension": ".py",
   "mimetype": "text/x-python",
   "name": "python",
   "nbconvert_exporter": "python",
   "pygments_lexer": "ipython3",
   "version": "3.6.3"
  }
 },
 "nbformat": 4,
 "nbformat_minor": 2
}
